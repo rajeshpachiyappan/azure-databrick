{
 "cells": [
  {
   "cell_type": "markdown",
   "metadata": {
    "application/vnd.databricks.v1+cell": {
     "cellMetadata": {},
     "inputWidgets": {},
     "nuid": "a25f27a3-718e-45fc-aa26-d00127fab22c",
     "showTitle": false,
     "tableResultSettingsMap": {},
     "title": ""
    }
   },
   "source": [
    "####Setup Unity Catalog\n",
    "1. Create Workspace\n",
    "2. Create Data Storage Layer\n",
    "    1. Storage Account\n",
    "    2. Storage Container\n",
    "    3. Databricks Access Connector\n",
    "    4. Blog Storage Contributor role for Access Conector\n",
    "3. Setup Unity Catalog Metastore\n",
    "4. Setup Users and Permissions"
   ]
  },
  {
   "cell_type": "markdown",
   "metadata": {
    "application/vnd.databricks.v1+cell": {
     "cellMetadata": {},
     "inputWidgets": {},
     "nuid": "5a0eae10-87f0-48a1-aa50-b04f763ef549",
     "showTitle": false,
     "tableResultSettingsMap": {},
     "title": ""
    }
   },
   "source": [
    "#####2.2. Create a storage container for unity catalog metastore (Ex metastore-root)\n",
    "* Go to your Azure storage account page\n",
    "* Click \"Containers\" from the left menu\n",
    "* Click \"+ Container\" to create a new container"
   ]
  },
  {
   "cell_type": "markdown",
   "metadata": {
    "application/vnd.databricks.v1+cell": {
     "cellMetadata": {},
     "inputWidgets": {},
     "nuid": "b5f60d97-5ba3-473a-99c4-3e5853824cd2",
     "showTitle": false,
     "tableResultSettingsMap": {},
     "title": ""
    }
   },
   "source": [
    "#####2.3 Create Databricks Access Connector\n",
    "* Click \"+ Create a resource\" button on your Azure portal\n",
    "* Search \"access connector for azure databricks\"\n",
    "* Click \"Create\" button\n",
    "* Select your Azure subscription and a resource group on the create page\n",
    "* Give a name to your connector (Ex databricks_access_connector)\n",
    "* Select a region. Make sure to select the same region as your Databricks workspace and Azure storage account\n",
    "* Click \"Review + Create\"\n",
    "* Click \"Create\" button after reviewing your settings\n",
    "* Go to Access Connector Resource page and copy the Resource ID. You will need it later"
   ]
  },
  {
   "cell_type": "markdown",
   "metadata": {
    "application/vnd.databricks.v1+cell": {
     "cellMetadata": {},
     "inputWidgets": {},
     "nuid": "759ace49-3cff-4906-ace1-73ed43925ed4",
     "showTitle": false,
     "tableResultSettingsMap": {},
     "title": ""
    }
   },
   "source": [
    "#####2.4 Grant access to Access connector for your Azure storage account\n",
    "* Go to your storage account page on your Azure portal\n",
    "* Click \"Access control (IAM)\" from the left side memu\n",
    "* Click \"+ Add\" link from the top menu and select \"Add role assignment\"\n",
    "* Search for \"Storage blob data contributor\" role and select it\n",
    "* Click \"Next\" button\n",
    "* Choose \"Managed idendity\" radio button\n",
    "* Click \"+ Select members\" on the members page\n",
    "* Choose your Azure subscription\n",
    "* Choose \"All system managed identities\"\n",
    "* Select your Databricks access connector (Ex databricks_access_connector)\n",
    "* Click \"Select\" button\n",
    "* Click \"Review + assign\" twice"
   ]
  },
  {
   "cell_type": "markdown",
   "metadata": {
    "application/vnd.databricks.v1+cell": {
     "cellMetadata": {},
     "inputWidgets": {},
     "nuid": "b35743cd-2728-410c-a7ed-430151268830",
     "showTitle": false,
     "tableResultSettingsMap": {},
     "title": ""
    }
   },
   "source": [
    "#####3. Setup Unity Catalog Metastore\n",
    "* Go to Databricks Account console\n",
    "    * Click your name at the top right corner of the Databricks workspace\n",
    "    * Click Manage Accounts from the menu\n",
    "    * Databricks account console will open in a new browser tab\n",
    "* Perform following in the Databricks Account Console\n",
    "    * Click Data from the left side menu\n",
    "    * Click \"Create Metastore\" button\n",
    "    * Give a name for metastore (Ex - scholarnest-meta)\n",
    "    * Choose a region for metatore deployment. Make sure to choose the same region as your workspace and storage account (Ex eastus)\n",
    "    * Type storage container path for metastore storage (Ex metastore-root@prashantsa.dfs.core.windows.net/)\n",
    "    * Paste the Access connector resource id\n",
    "    * Clcik the \"Create\" button\n",
    "    * Select all workspace names to connect it with the metastore\n",
    "    * Click \"Assign\" button"
   ]
  },
  {
   "cell_type": "markdown",
   "metadata": {
    "application/vnd.databricks.v1+cell": {
     "cellMetadata": {},
     "inputWidgets": {},
     "nuid": "2d857c67-2fd0-477a-9dbb-7431cd6ecd35",
     "showTitle": false,
     "tableResultSettingsMap": {},
     "title": ""
    }
   },
   "source": [
    "#####4. Provision your company users to Unity Catalog\n",
    "1. Get SCIM connection details\n",
    "    1. Click settings menu from the left side of Databricks Account Console\n",
    "    2. Click \"Setup user provisioning\" button\n",
    "    3. Copy SCIM token\n",
    "    4. Copy SCIM URL\n",
    "    5. Click \"Done\" button\n",
    "2. Sync corporate users from your Active Directory\n",
    "    1. Go to your organizations Active Directory (Ex Your Azure Active Directory)\n",
    "    2. Select \"Enterprise Applications\" from the left side menu\n",
    "    3. Clcik \"+ New Application\"\n",
    "    4. Search for \"Azure Databricks SCIM Provisioning Connector\" and select it\n",
    "    5. Click \"Create\" button\n",
    "    6. Clcik \"Provisioning\" from the left side menu on the SCIM Provisioning Connector page\n",
    "    7. Click \"Get Started\" button\n",
    "    8. Select Provisioning mode (Ex Automatic)\n",
    "    9. Paste Databricks Account SCIM URL that you copied earlier\n",
    "    10. Paste Databricks Account SCIM token that you copied earlier\n",
    "    11. Click \"Test Connection\" to confirm the connectivity\n",
    "    12. Click \"Save\" link at the top\n",
    "    13. Go back to \"SCIM Provisioning Connector\" page\n",
    "    14. Click \"Users and groups\" from the left side menu\n",
    "    15. Click \"+ Add user/group\"\n",
    "    16. Click \"Not Selected\" and select desired users\n",
    "    17. Click \"Assign\" button\n",
    "    18. Click \"Provisioning\" from the left side menu\n",
    "    19. Click \"Start Provisioning\" button from the top\n",
    "    20. Wait for \"Initial cycle completed.\" message"
   ]
  },
  {
   "cell_type": "markdown",
   "metadata": {
    "application/vnd.databricks.v1+cell": {
     "cellMetadata": {},
     "inputWidgets": {},
     "nuid": "106d54ef-7e87-4374-a7bf-c7a8b9cc231b",
     "showTitle": false,
     "tableResultSettingsMap": {},
     "title": ""
    }
   },
   "source": [
    "#####5. Create user group\n",
    "1. Click \"User management\" from the left side of Databricks Account Console\n",
    "2. Go to groups tab\n",
    "3. Click Add group button\n",
    "4. Type group name (Ex scholarnest-dev)\n",
    "5. Click Save button\n",
    "6. Click \"Add members\" button to add new members to the group"
   ]
  },
  {
   "cell_type": "markdown",
   "metadata": {
    "application/vnd.databricks.v1+cell": {
     "cellMetadata": {},
     "inputWidgets": {},
     "nuid": "312b282a-ac97-4177-80d6-b11f75b9382d",
     "showTitle": false,
     "tableResultSettingsMap": {},
     "title": ""
    }
   },
   "source": [
    "#####1. Create a DEV and a QA catalog."
   ]
  },
  {
   "cell_type": "code",
   "execution_count": 0,
   "metadata": {
    "application/vnd.databricks.v1+cell": {
     "cellMetadata": {
      "byteLimit": 2048000,
      "implicitDf": true,
      "rowLimit": 10000
     },
     "inputWidgets": {},
     "nuid": "50291cb9-c2bd-487a-8e9f-8d036f268f7d",
     "showTitle": false,
     "tableResultSettingsMap": {},
     "title": ""
    }
   },
   "outputs": [],
   "source": [
    "%sql\n",
    "CREATE CATALOG IF NOT EXISTS dev;"
   ]
  },
  {
   "cell_type": "markdown",
   "metadata": {
    "application/vnd.databricks.v1+cell": {
     "cellMetadata": {},
     "inputWidgets": {},
     "nuid": "23b68554-cd93-44fd-80dc-ac6e2c8469aa",
     "showTitle": false,
     "tableResultSettingsMap": {},
     "title": ""
    }
   },
   "source": [
    "#####2. Create a demo_db database in DEV catalog."
   ]
  },
  {
   "cell_type": "code",
   "execution_count": 0,
   "metadata": {
    "application/vnd.databricks.v1+cell": {
     "cellMetadata": {
      "byteLimit": 2048000,
      "implicitDf": true,
      "rowLimit": 10000
     },
     "inputWidgets": {},
     "nuid": "699d0cbd-ddb8-4725-9f50-a7fb209be9f6",
     "showTitle": false,
     "tableResultSettingsMap": {},
     "title": ""
    }
   },
   "outputs": [],
   "source": [
    "%sql\n",
    "CREATE DATABASE IF NOT EXISTS dev.demo_db;"
   ]
  },
  {
   "cell_type": "markdown",
   "metadata": {
    "application/vnd.databricks.v1+cell": {
     "cellMetadata": {},
     "inputWidgets": {},
     "nuid": "43169f7d-e487-4978-aeb9-f58cbcb722f2",
     "showTitle": false,
     "tableResultSettingsMap": {},
     "title": ""
    }
   },
   "source": [
    "DROP DATABASE IF EXISTS qa.default;"
   ]
  },
  {
   "cell_type": "markdown",
   "metadata": {
    "application/vnd.databricks.v1+cell": {
     "cellMetadata": {},
     "inputWidgets": {},
     "nuid": "53f7c326-5cc1-41cc-b9e2-a0b60a62d1c0",
     "showTitle": false,
     "tableResultSettingsMap": {},
     "title": ""
    }
   },
   "source": [
    "%md\n",
    "#####4. Grant following privilages to uc-dev-group\n",
    "1. USE CATALOG on DEV\n",
    "2. ALL PRIVILEGES on demo_db"
   ]
  },
  {
   "cell_type": "code",
   "execution_count": 0,
   "metadata": {
    "application/vnd.databricks.v1+cell": {
     "cellMetadata": {
      "byteLimit": 2048000,
      "implicitDf": true,
      "rowLimit": 10000
     },
     "inputWidgets": {},
     "nuid": "fbf4ce89-7e91-4f7b-bf43-5e3ef3924043",
     "showTitle": false,
     "tableResultSettingsMap": {},
     "title": ""
    }
   },
   "outputs": [],
   "source": [
    "%sql\n",
    "GRANT USE CATALOG ON CATALOG dev TO `uc-dev-group`;\n",
    "GRANT ALL PRIVILEGES ON DATABASE dev.demo_db to `uc-dev-group`;"
   ]
  },
  {
   "cell_type": "markdown",
   "metadata": {
    "application/vnd.databricks.v1+cell": {
     "cellMetadata": {},
     "inputWidgets": {},
     "nuid": "7e5caca8-1bd7-4c97-be85-0ab0b9c74d77",
     "showTitle": false,
     "tableResultSettingsMap": {},
     "title": ""
    }
   },
   "source": [
    "relevant spark command \n",
    "%python\n",
    "spark.sql(\"\"\"\n",
    "    GRANT USE CATALOG ON CATALOG dev TO `uc-dev-group`;\n",
    "    GRANT ALL PRIVILEGES ON DATABASE dev.demo_db to `uc-dev-group`;\n",
    "\"\"\")"
   ]
  },
  {
   "cell_type": "markdown",
   "metadata": {
    "application/vnd.databricks.v1+cell": {
     "cellMetadata": {},
     "inputWidgets": {},
     "nuid": "18cac183-c79d-43b0-8070-396859bc7028",
     "showTitle": false,
     "tableResultSettingsMap": {},
     "title": ""
    }
   },
   "source": [
    "#####5. Create volume under demo_db"
   ]
  },
  {
   "cell_type": "code",
   "execution_count": 0,
   "metadata": {
    "application/vnd.databricks.v1+cell": {
     "cellMetadata": {
      "byteLimit": 2048000,
      "implicitDf": true,
      "rowLimit": 10000
     },
     "inputWidgets": {},
     "nuid": "a3c7c3f7-0bd7-4845-9985-eead035a9cb1",
     "showTitle": false,
     "tableResultSettingsMap": {},
     "title": ""
    }
   },
   "outputs": [],
   "source": [
    "%sql\n",
    "CREATE VOLUME dev.demo_db.files;"
   ]
  },
  {
   "cell_type": "code",
   "execution_count": 0,
   "metadata": {
    "application/vnd.databricks.v1+cell": {
     "cellMetadata": {
      "byteLimit": 2048000,
      "rowLimit": 10000
     },
     "inputWidgets": {},
     "nuid": "f4cbe026-cdb6-4cbb-b12a-624d839f9a05",
     "showTitle": false,
     "tableResultSettingsMap": {},
     "title": ""
    }
   },
   "outputs": [],
   "source": [
    "%fs ls /Volumes/dev/demo_db/files/"
   ]
  },
  {
   "cell_type": "markdown",
   "metadata": {
    "application/vnd.databricks.v1+cell": {
     "cellMetadata": {},
     "inputWidgets": {},
     "nuid": "30e4b2d8-41d5-4629-a6a4-93a55872d521",
     "showTitle": false,
     "tableResultSettingsMap": {},
     "title": ""
    }
   },
   "source": [
    "#####9. Create an external location to an existing container/directory in ADLS (Use the Catalog explorer)"
   ]
  },
  {
   "cell_type": "markdown",
   "metadata": {
    "application/vnd.databricks.v1+cell": {
     "cellMetadata": {},
     "inputWidgets": {},
     "nuid": "6875a27d-2ef0-4cc5-9cc1-e1c57e4271ca",
     "showTitle": false,
     "tableResultSettingsMap": {},
     "title": ""
    }
   },
   "source": [
    "#####10. Describe external location"
   ]
  },
  {
   "cell_type": "code",
   "execution_count": 0,
   "metadata": {
    "application/vnd.databricks.v1+cell": {
     "cellMetadata": {
      "byteLimit": 2048000,
      "implicitDf": true,
      "rowLimit": 10000
     },
     "inputWidgets": {},
     "nuid": "a8141a9f-83c5-4c01-bce5-2e5b49aa436b",
     "showTitle": false,
     "tableResultSettingsMap": {},
     "title": ""
    }
   },
   "outputs": [],
   "source": [
    "%sql\n",
    "DESCRIBE EXTERNAL LOCATION `el-storage-dbfs-container`;"
   ]
  },
  {
   "cell_type": "markdown",
   "metadata": {
    "application/vnd.databricks.v1+cell": {
     "cellMetadata": {},
     "inputWidgets": {},
     "nuid": "18d73ffb-1265-4960-88c0-41a01163bc85",
     "showTitle": false,
     "tableResultSettingsMap": {},
     "title": ""
    }
   },
   "source": [
    "#####11. Grant READ FILES privilage on external location to uc-dev-group"
   ]
  },
  {
   "cell_type": "code",
   "execution_count": 0,
   "metadata": {
    "application/vnd.databricks.v1+cell": {
     "cellMetadata": {
      "byteLimit": 2048000,
      "implicitDf": true,
      "rowLimit": 10000
     },
     "inputWidgets": {},
     "nuid": "642068cc-67c4-49af-8a04-a6f9153f5fcc",
     "showTitle": false,
     "tableResultSettingsMap": {},
     "title": ""
    }
   },
   "outputs": [],
   "source": [
    "%sql\n",
    "GRANT READ FILES ON EXTERNAL LOCATION `el-storage-dbfs-container` TO `uc-dev-group`"
   ]
  },
  {
   "cell_type": "markdown",
   "metadata": {
    "application/vnd.databricks.v1+cell": {
     "cellMetadata": {},
     "inputWidgets": {},
     "nuid": "b4018d2f-731b-48fa-86d4-3f88ddf9a38a",
     "showTitle": false,
     "tableResultSettingsMap": {},
     "title": ""
    }
   },
   "source": [
    "#####12. List content of the external location"
   ]
  },
  {
   "cell_type": "code",
   "execution_count": 0,
   "metadata": {
    "application/vnd.databricks.v1+cell": {
     "cellMetadata": {
      "byteLimit": 2048000,
      "rowLimit": 10000
     },
     "inputWidgets": {},
     "nuid": "6fd58cec-c1b2-407a-b71a-096565572ba8",
     "showTitle": false,
     "tableResultSettingsMap": {},
     "title": ""
    }
   },
   "outputs": [],
   "source": [
    "%fs ls abfss://dbfs-container@adlssmiloeabronzedev001.dfs.core.windows.net/"
   ]
  },
  {
   "cell_type": "markdown",
   "metadata": {
    "application/vnd.databricks.v1+cell": {
     "cellMetadata": {},
     "inputWidgets": {},
     "nuid": "d05c6be9-0b95-455d-88ed-a392eff7282f",
     "showTitle": false,
     "tableResultSettingsMap": {},
     "title": ""
    }
   },
   "source": [
    "###### Create Delta table. You can also create a Delta table from an existing data source using the CREATE TABLE AS SELECT or CREATE TABLE USING commands. For example, you can create a Delta table from a CSV file with the following command:\n",
    "\n",
    "Below syntax to create an external table"
   ]
  },
  {
   "cell_type": "code",
   "execution_count": 0,
   "metadata": {
    "application/vnd.databricks.v1+cell": {
     "cellMetadata": {
      "byteLimit": 2048000,
      "implicitDf": true,
      "rowLimit": 10000
     },
     "inputWidgets": {},
     "nuid": "096779ba-0068-42a0-aff1-0194179f5fa7",
     "showTitle": false,
     "tableResultSettingsMap": {},
     "title": ""
    }
   },
   "outputs": [],
   "source": [
    "%sql\n",
    "USE CATALOG dev;\n",
    "USE SCHEMA demo_db;\n",
    "CREATE TABLE people\n",
    "USING delta\n",
    "LOCATION 'abfss://dbfs-container@adlssmiloeabronzedev001.dfs.core.windows.net/people/'\n",
    "AS SELECT *\n",
    "FROM json.`abfss://dbfs-container@adlssmiloeabronzedev001.dfs.core.windows.net/people.json`"
   ]
  },
  {
   "cell_type": "code",
   "execution_count": 0,
   "metadata": {
    "application/vnd.databricks.v1+cell": {
     "cellMetadata": {
      "byteLimit": 2048000,
      "implicitDf": true,
      "rowLimit": 10000
     },
     "inputWidgets": {},
     "nuid": "eec6661b-e135-42fa-8fe7-3ea813c0a6fc",
     "showTitle": false,
     "tableResultSettingsMap": {},
     "title": ""
    }
   },
   "outputs": [],
   "source": [
    "%sql\n",
    "select * from dev.demo_db.people"
   ]
  },
  {
   "cell_type": "markdown",
   "metadata": {
    "application/vnd.databricks.v1+cell": {
     "cellMetadata": {},
     "inputWidgets": {},
     "nuid": "d698ba11-d93d-4d00-83af-b264fcf963f3",
     "showTitle": false,
     "tableResultSettingsMap": {},
     "title": ""
    }
   },
   "source": [
    "##### below syntax to create managed delta table"
   ]
  },
  {
   "cell_type": "code",
   "execution_count": 0,
   "metadata": {
    "application/vnd.databricks.v1+cell": {
     "cellMetadata": {
      "byteLimit": 2048000,
      "implicitDf": true,
      "rowLimit": 10000
     },
     "inputWidgets": {},
     "nuid": "926fdbe4-d715-490f-b918-d64d0da9477e",
     "showTitle": false,
     "tableResultSettingsMap": {},
     "title": ""
    }
   },
   "outputs": [],
   "source": [
    "%sql\n",
    "USE CATALOG dev;\n",
    "USE SCHEMA demo_db;\n",
    "CREATE TABLE people01\n",
    "USING delta\n",
    "AS SELECT *\n",
    "FROM json.`abfss://dbfs-container@adlssmiloeabronzedev001.dfs.core.windows.net/people.json`"
   ]
  },
  {
   "cell_type": "markdown",
   "metadata": {
    "application/vnd.databricks.v1+cell": {
     "cellMetadata": {},
     "inputWidgets": {},
     "nuid": "9c525912-f61a-4090-91de-5f31b500405f",
     "showTitle": false,
     "tableResultSettingsMap": {},
     "title": ""
    }
   },
   "source": [
    "####### Using DataFrame API\n",
    "\n",
    "Another way to create a Delta table is to use the DataFrame API in Python, R, Scala, or Java. You can use this API to create a DataFrame from various sources, such as files, databases, or Spark tables, and then write it to a Delta table using the write or save methods. For example, you can create a Delta table from a Parquet file with the following Python code:"
   ]
  },
  {
   "cell_type": "code",
   "execution_count": 0,
   "metadata": {
    "application/vnd.databricks.v1+cell": {
     "cellMetadata": {
      "byteLimit": 2048000,
      "rowLimit": 10000
     },
     "inputWidgets": {},
     "nuid": "591fd845-2b44-4825-8d46-eb9f7362959d",
     "showTitle": false,
     "tableResultSettingsMap": {},
     "title": ""
    }
   },
   "outputs": [],
   "source": [
    "%fs ls /mnt"
   ]
  },
  {
   "cell_type": "code",
   "execution_count": 0,
   "metadata": {
    "application/vnd.databricks.v1+cell": {
     "cellMetadata": {
      "byteLimit": 2048000,
      "rowLimit": 10000
     },
     "inputWidgets": {},
     "nuid": "a0c5e5ad-af8d-4746-a3da-bb50808e5168",
     "showTitle": false,
     "tableResultSettingsMap": {},
     "title": ""
    }
   },
   "outputs": [],
   "source": [
    "%fs ls /mnt/u01"
   ]
  },
  {
   "cell_type": "markdown",
   "metadata": {
    "application/vnd.databricks.v1+cell": {
     "cellMetadata": {},
     "inputWidgets": {},
     "nuid": "57e9ae71-7fd9-469d-9fbd-f851c75f8d93",
     "showTitle": false,
     "tableResultSettingsMap": {},
     "title": ""
    }
   },
   "source": [
    "##### in the below code we are creating a delta table using the json file,delta table will not be listed in unity catalog. to list this table in unity catalog. We need to create unity catalog table using the delta table."
   ]
  },
  {
   "cell_type": "code",
   "execution_count": 0,
   "metadata": {
    "application/vnd.databricks.v1+cell": {
     "cellMetadata": {
      "byteLimit": 2048000,
      "rowLimit": 10000
     },
     "inputWidgets": {},
     "nuid": "07e4361a-167b-40db-8c75-af70f35b098e",
     "showTitle": false,
     "tableResultSettingsMap": {},
     "title": ""
    }
   },
   "outputs": [],
   "source": [
    "%python\n",
    "# Read the json file into a DataFrame\n",
    "df = spark.read.json('/mnt/u01/flight-time.json')\n",
    "# Write the DataFrame to a Delta table\n",
    "df.write.format('delta').save('/mnt/u01/flight-time-delta')"
   ]
  },
  {
   "cell_type": "code",
   "execution_count": 0,
   "metadata": {
    "application/vnd.databricks.v1+cell": {
     "cellMetadata": {
      "byteLimit": 2048000,
      "implicitDf": true,
      "rowLimit": 10000
     },
     "inputWidgets": {},
     "nuid": "ef8b54c8-2f10-4fa3-acd0-c67a56d7ab57",
     "showTitle": false,
     "tableResultSettingsMap": {},
     "title": ""
    }
   },
   "outputs": [],
   "source": [
    "%sql\n",
    "USE CATALOG dev;\n",
    "USE SCHEMA demo_db;\n",
    "CREATE TABLE flight_time\n",
    "USING delta\n",
    "AS SELECT *\n",
    "FROM delta.`abfss://dbfs-container@adlssmiloeabronzedev001.dfs.core.windows.net/flight-time-delta/`"
   ]
  },
  {
   "cell_type": "markdown",
   "metadata": {
    "application/vnd.databricks.v1+cell": {
     "cellMetadata": {},
     "inputWidgets": {},
     "nuid": "df262977-93cc-4a6f-b263-22e772c2bc90",
     "showTitle": false,
     "tableResultSettingsMap": {},
     "title": ""
    }
   },
   "source": [
    "#### using this link for creating delta table in different format\n",
    "https://dezimaldata.medium.com/5-ways-to-create-a-spark-delta-table-in-databricks-c53af3016660"
   ]
  },
  {
   "cell_type": "code",
   "execution_count": 0,
   "metadata": {
    "application/vnd.databricks.v1+cell": {
     "cellMetadata": {
      "byteLimit": 2048000,
      "rowLimit": 10000
     },
     "inputWidgets": {},
     "nuid": "2a6671f9-d550-4813-9e2d-33a5d93f7af6",
     "showTitle": false,
     "tableResultSettingsMap": {},
     "title": ""
    }
   },
   "outputs": [],
   "source": [
    "%fs ls /mnt/u01"
   ]
  },
  {
   "cell_type": "code",
   "execution_count": 0,
   "metadata": {
    "application/vnd.databricks.v1+cell": {
     "cellMetadata": {
      "byteLimit": 2048000,
      "rowLimit": 10000
     },
     "inputWidgets": {},
     "nuid": "8ab9530a-51c8-4238-b60d-68fdf1ddf2c4",
     "showTitle": false,
     "tableResultSettingsMap": {},
     "title": ""
    }
   },
   "outputs": [],
   "source": [
    "base_dir = \"/mnt/u01\"\n",
    "flight_schema_ddl = \"\"\"FL_DATE DATE, OP_CARRIER STRING, OP_CARRIER_FL_NUM INT, ORIGIN STRING, \n",
    "          ORIGIN_CITY_NAME STRING, DEST STRING, DEST_CITY_NAME STRING, CRS_DEP_TIME INT, DEP_TIME INT, \n",
    "          WHEELS_ON INT, TAXI_IN INT, CRS_ARR_TIME INT, ARR_TIME INT, CANCELLED STRING, DISTANCE INT\"\"\"\n",
    "\n",
    "flight_time_df = (spark.read.format(\"json\")\n",
    "                    .schema(flight_schema_ddl)\n",
    "                    .option(\"dateFormat\", \"M/d/y\")\n",
    "                    .load(f\"{base_dir}/flight-time.json\")\n",
    ")"
   ]
  },
  {
   "cell_type": "markdown",
   "metadata": {
    "application/vnd.databricks.v1+cell": {
     "cellMetadata": {},
     "inputWidgets": {},
     "nuid": "336e0360-4127-49e7-8b7e-9c6a08328262",
     "showTitle": false,
     "tableResultSettingsMap": {},
     "title": ""
    }
   },
   "source": [
    "#####1. Create a delta table uing Spark SQL"
   ]
  },
  {
   "cell_type": "code",
   "execution_count": 0,
   "metadata": {
    "application/vnd.databricks.v1+cell": {
     "cellMetadata": {
      "byteLimit": 2048000,
      "implicitDf": true,
      "rowLimit": 10000
     },
     "inputWidgets": {},
     "nuid": "dd29d973-c505-48fa-a573-dfd0edf174b8",
     "showTitle": false,
     "tableResultSettingsMap": {},
     "title": ""
    }
   },
   "outputs": [],
   "source": [
    "%sql\n",
    "CREATE TABLE IF NOT EXISTS dev.demo_db.flight_time_tbl (\n",
    "    FL_DATE DATE, \n",
    "    OP_CARRIER STRING, \n",
    "    OP_CARRIER_FL_NUM INT, \n",
    "    ORIGIN STRING, \n",
    "    ORIGIN_CITY_NAME STRING, \n",
    "    DEST STRING, \n",
    "    DEST_CITY_NAME STRING, \n",
    "    CRS_DEP_TIME INT, \n",
    "    DEP_TIME INT, \n",
    "    WHEELS_ON INT, \n",
    "    TAXI_IN INT, \n",
    "    CRS_ARR_TIME INT, \n",
    "    ARR_TIME INT, \n",
    "    CANCELLED STRING, \n",
    "    DISTANCE INT\n",
    ") USING DELTA"
   ]
  },
  {
   "cell_type": "markdown",
   "metadata": {
    "application/vnd.databricks.v1+cell": {
     "cellMetadata": {},
     "inputWidgets": {},
     "nuid": "266ef75d-4a6b-458f-84ae-6719ee7a7209",
     "showTitle": false,
     "tableResultSettingsMap": {},
     "title": ""
    }
   },
   "source": [
    "#####2. Load data into delta table"
   ]
  },
  {
   "cell_type": "code",
   "execution_count": 0,
   "metadata": {
    "application/vnd.databricks.v1+cell": {
     "cellMetadata": {
      "byteLimit": 2048000,
      "rowLimit": 10000
     },
     "inputWidgets": {},
     "nuid": "c11fb034-db27-4785-869e-f217e0e27d15",
     "showTitle": false,
     "tableResultSettingsMap": {},
     "title": ""
    }
   },
   "outputs": [],
   "source": [
    "flight_time_df.write.format(\"delta\").mode(\"append\").saveAsTable(\"dev.demo_db.flight_time_tbl\")\n"
   ]
  },
  {
   "cell_type": "code",
   "execution_count": 0,
   "metadata": {
    "application/vnd.databricks.v1+cell": {
     "cellMetadata": {
      "byteLimit": 2048000,
      "implicitDf": true,
      "rowLimit": 10000
     },
     "inputWidgets": {},
     "nuid": "75fc7e34-0231-442b-9819-0149091b6e21",
     "showTitle": false,
     "tableResultSettingsMap": {},
     "title": ""
    }
   },
   "outputs": [],
   "source": [
    "%sql\n",
    "select * from dev.demo_db.flight_time_tbl"
   ]
  }
 ],
 "metadata": {
  "application/vnd.databricks.v1+notebook": {
   "computePreferences": null,
   "dashboards": [],
   "environmentMetadata": {
    "base_environment": "",
    "environment_version": "2"
   },
   "language": "python",
   "notebookMetadata": {
    "mostRecentlyExecutedCommandWithImplicitDF": {
     "commandId": 5714666776426089,
     "dataframes": [
      "_sqldf"
     ]
    },
    "pythonIndentUnit": 4
   },
   "notebookName": "2. Unity catalog setup and table creation",
   "widgets": {}
  },
  "language_info": {
   "name": "python"
  }
 },
 "nbformat": 4,
 "nbformat_minor": 0
}
